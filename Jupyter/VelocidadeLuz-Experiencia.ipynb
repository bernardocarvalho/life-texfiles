{
 "cells": [
  {
   "cell_type": "markdown",
   "metadata": {},
   "source": [
    "# Velocidade da Luz"
   ]
  },
  {
   "cell_type": "code",
   "execution_count": 2,
   "metadata": {},
   "outputs": [],
   "source": [
    "%matplotlib notebook\n",
    "import matplotlib.pyplot as plt\n",
    "import numpy as np\n",
    "from scipy import constants # Constantes Físicas\n",
    "import ipywidgets as widgets"
   ]
  },
  {
   "cell_type": "markdown",
   "metadata": {},
   "source": [
    "## Desfasagem entre dois Sinais"
   ]
  },
  {
   "cell_type": "markdown",
   "metadata": {},
   "source": [
    "## Velocidade da Luz no Ar"
   ]
  },
  {
   "cell_type": "code",
   "execution_count": 53,
   "metadata": {},
   "outputs": [
    {
     "name": "stdout",
     "output_type": "stream",
     "text": [
      "Var   = 2.966e+8\n",
      "errVar= 0.026e+8\n",
      "Ctab= 299792458.0\n"
     ]
    }
   ],
   "source": [
    "#Periodo\n",
    "T=1./50.1e6\n",
    "eT=0.1/50.1*T\n",
    "deltaZar=1.48\n",
    "errDeltaZar=0.01\n",
    "Var= 2 * deltaZar / T * 2\n",
    "errVar =  Var * (0.1/50.1 + errDeltaZar /deltaZar ) \n",
    "print('Var   = %5.3fe+8' %(Var/1e8))\n",
    "print('errVar= %5.3fe+8' %(errVar/1e8))\n",
    "\n",
    "\n",
    "print('Ctab= ' +str(constants.c))\n",
    "\n"
   ]
  },
  {
   "cell_type": "markdown",
   "metadata": {},
   "source": [
    "## Indice de Refração"
   ]
  },
  {
   "cell_type": "code",
   "execution_count": 38,
   "metadata": {},
   "outputs": [],
   "source": [
    "def n(Z0,Zn,Ln):\n",
    "    return 1 + 2*(Z0-Zn)/Ln\n"
   ]
  },
  {
   "cell_type": "code",
   "execution_count": 39,
   "metadata": {},
   "outputs": [
    {
     "name": "stdout",
     "output_type": "stream",
     "text": [
      "nVd= 1.41247, Vel = 2.11399e+08\n"
     ]
    }
   ],
   "source": [
    "deltaZ0=1.520\n",
    "deltaZ1=1.315\n",
    "L = 0.994\n",
    "nVd = n(deltaZ0,deltaZ1,L) # 1 + (deltaZ0 - deltaZ1)/Lvd\n",
    "print('nVd= %g, Vel = %g' % (nVd, Var/nVd))"
   ]
  },
  {
   "cell_type": "markdown",
   "metadata": {},
   "source": [
    "## Cálculo de Incertezas\n",
    "### cálculo simbólico de derivadas parciais"
   ]
  },
  {
   "cell_type": "code",
   "execution_count": 40,
   "metadata": {},
   "outputs": [],
   "source": [
    "import sympy as sp\n",
    "from scipy.misc import derivative\n",
    "from sympy.parsing.sympy_parser import parse_expr"
   ]
  },
  {
   "cell_type": "code",
   "execution_count": 41,
   "metadata": {},
   "outputs": [],
   "source": [
    "eqn= '1 + 2*(x -y)/z'\n",
    "x, y, z = sp.symbols('x y z')"
   ]
  },
  {
   "cell_type": "code",
   "execution_count": 42,
   "metadata": {},
   "outputs": [
    {
     "name": "stdout",
     "output_type": "stream",
     "text": [
      "-2/z\n",
      "-(2*x - 2*y)/z**2\n"
     ]
    }
   ],
   "source": [
    "dn_y = sp.diff(eqn , y)\n",
    "print (dn_y)\n",
    "dn_z = sp.diff(eqn , z)\n",
    "print (dn_z)"
   ]
  },
  {
   "cell_type": "code",
   "execution_count": 43,
   "metadata": {},
   "outputs": [],
   "source": [
    "def errN(x, ex, y, ey, z, ez):\n",
    "    errX = np.abs(2/z)*ex\n",
    "    errY = np.abs(2/z)*ey\n",
    "    errZ = np.abs(2*(x - y)/z**2)*ez\n",
    "    return errX, errY, errZ\n"
   ]
  },
  {
   "cell_type": "code",
   "execution_count": 44,
   "metadata": {},
   "outputs": [
    {
     "name": "stdout",
     "output_type": "stream",
     "text": [
      "errZ0= 0.0160966, errZ0 = 0.0160966, errL = 0\n",
      "errN= 0.0321932\n"
     ]
    }
   ],
   "source": [
    "eZ0=0.008;eZ1=eZ0=0.008;eL=0.0005\n",
    "errX, errY, errZ =errN(deltaZ0,eZ0,deltaZ0,eZ0,L,eL)\n",
    "print('errZ0= %g, errZ0 = %g, errL = %g' % (errX, errY, errZ))\n",
    "print('errN= %g' % (errX+ errY+ errZ))"
   ]
  },
  {
   "cell_type": "code",
   "execution_count": null,
   "metadata": {},
   "outputs": [],
   "source": []
  }
 ],
 "metadata": {
  "kernelspec": {
   "display_name": "Python 3",
   "language": "python",
   "name": "python3"
  },
  "language_info": {
   "codemirror_mode": {
    "name": "ipython",
    "version": 3
   },
   "file_extension": ".py",
   "mimetype": "text/x-python",
   "name": "python",
   "nbconvert_exporter": "python",
   "pygments_lexer": "ipython3",
   "version": "3.6.6"
  }
 },
 "nbformat": 4,
 "nbformat_minor": 2
}
