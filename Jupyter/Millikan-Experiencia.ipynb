{
 "cells": [
  {
   "cell_type": "code",
   "execution_count": 6,
   "metadata": {},
   "outputs": [],
   "source": [
    "#must occur at the beginning of the file\n",
    "from __future__ import print_function\n",
    "%matplotlib notebook"
   ]
  },
  {
   "cell_type": "markdown",
   "metadata": {},
   "source": [
    "# Experiência de Millikan"
   ]
  },
  {
   "cell_type": "markdown",
   "metadata": {},
   "source": [
    "$m= \\rho \\frac{4}{3} \\pi  R^3 $    \n",
    "$F_a= - k \\eta v$   \n",
    "$   \\frac{d v}{dt} =  g -  \\frac{k \\eta}{m} v$"
   ]
  },
  {
   "cell_type": "markdown",
   "metadata": {},
   "source": [
    "Solução Analítica   $v(t)= \\frac{m g}{k \\eta} (1 - e^{-( k \\eta/m) t}  ) = v_L (1 - e^{-t/\\tau})$   \n",
    "$\\tau= k \\eta / m  $ ,  $v_L= \\frac{m g}{k \\eta}  $"
   ]
  },
  {
   "cell_type": "code",
   "execution_count": 7,
   "metadata": {},
   "outputs": [],
   "source": [
    "import matplotlib.pyplot as plt\n",
    "\n",
    "import numpy as np\n",
    "from scipy import constants # Constantes Físicas\n",
    "#from scipy.integrate import odeint\n",
    "#import ipywidgets as widgets"
   ]
  },
  {
   "cell_type": "code",
   "execution_count": 8,
   "metadata": {},
   "outputs": [],
   "source": [
    "#Raio da gota\n",
    "#R=9e-7\n",
    "#k=6*np.pi*R\n",
    "#18,52 · 10−6 Pa·s (viscosidade do ar a 23 ◦C)\n",
    "n=18.52e-6\n",
    "#Distância entre placas\n",
    "d=5e-3\n",
    "#massa da gota\n",
    "#m=4.0/3.0*np.pi*R**3*973\n",
    "#Aceleração gravidade\n",
    "g=9.8\n",
    "#Densidade do Óleo\n",
    "ro=973\n"
   ]
  },
  {
   "cell_type": "markdown",
   "metadata": {},
   "source": [
    "# Cálculo da Carga da gota"
   ]
  },
  {
   "cell_type": "markdown",
   "metadata": {},
   "source": [
    "$ v_L = \\frac{2 R^2 (\\rho_{oleo} - \\rho_{ar}) g} {9 \\eta_{ar}} $   \n",
    "\n",
    "$ R = \\sqrt{ \\frac{9 v_L \\eta_{ar}}{2  (\\rho_{oleo} - \\rho_{ar}) g}  }$   \n",
    "$q=\\frac{6 \\pi R \\eta_{ar} d v_L }{U}$"
   ]
  },
  {
   "cell_type": "code",
   "execution_count": 9,
   "metadata": {},
   "outputs": [],
   "source": [
    "##Medidas Experimentais\n",
    "###Distância percorida\n",
    "D=5 * 0.5e-3\n",
    "###Tempo de queda\n",
    "T=34.095\n",
    "#Tensao de paragem\n",
    "U=335.0"
   ]
  },
  {
   "cell_type": "code",
   "execution_count": 10,
   "metadata": {},
   "outputs": [
    {
     "name": "stdout",
     "output_type": "stream",
     "text": [
      "Velocide Limite: 7.33245e-05 m/s\n",
      "Raio da Gota: 8.00538e-07 m\n"
     ]
    }
   ],
   "source": [
    "vL=D/T\n",
    "R=np.sqrt(9 * vL * n / (2*g*(ro)))\n",
    "print(\"Velocide Limite: %g m/s\" % vL)\n",
    "print(\"Raio da Gota: %g m\" % R)"
   ]
  },
  {
   "cell_type": "code",
   "execution_count": 11,
   "metadata": {},
   "outputs": [
    {
     "name": "stdout",
     "output_type": "stream",
     "text": [
      "Carga da Gota: 3.05843e-19 C\n",
      "Carga da Gota (exp): 3.05182e-19 C\n"
     ]
    }
   ],
   "source": [
    "q=(6*np.pi*R*n*d*vL)/U\n",
    "print(\"Carga da Gota: %g C\" % q)\n",
    "Rexp=0.803e-6; vLexp = 7.374e-5; Uexp=(335+341+340)/3.0\n",
    "qexp=(6*np.pi*Rexp*n*d*vLexp)/Uexp\n",
    "print(\"Carga da Gota (exp): %g C\" % qexp)"
   ]
  },
  {
   "cell_type": "code",
   "execution_count": 12,
   "metadata": {},
   "outputs": [
    {
     "name": "stdout",
     "output_type": "stream",
     "text": [
      "Carga do Electrao tabelada: 1.60218e-19 C\n"
     ]
    }
   ],
   "source": [
    "print(\"Carga do Electrao tabelada: %g C\" %constants.e)"
   ]
  },
  {
   "cell_type": "markdown",
   "metadata": {},
   "source": [
    "## Correção Lei de Stokes"
   ]
  },
  {
   "cell_type": "code",
   "execution_count": 18,
   "metadata": {},
   "outputs": [],
   "source": [
    "b =7.88e-3\n",
    "#Pressão atmosferica em Pascal\n",
    "p=101325 "
   ]
  },
  {
   "cell_type": "code",
   "execution_count": 20,
   "metadata": {},
   "outputs": [
    {
     "name": "stdout",
     "output_type": "stream",
     "text": [
      "Carga da Gota corrigida: 3.05843e-19 C\n"
     ]
    }
   ],
   "source": [
    "qp=qexp*(1.0/(1.0 + b/(p*R)))**(3.0/2.0)\n",
    "print(\"Carga da Gota corrigida: %g C\" % q)"
   ]
  },
  {
   "cell_type": "markdown",
   "metadata": {
    "collapsed": true
   },
   "source": [
    "## Cálculo de Incertezas"
   ]
  },
  {
   "cell_type": "code",
   "execution_count": null,
   "metadata": {
    "collapsed": true
   },
   "outputs": [],
   "source": []
  }
 ],
 "metadata": {
  "kernelspec": {
   "display_name": "Python 3",
   "language": "python",
   "name": "python3"
  },
  "language_info": {
   "codemirror_mode": {
    "name": "ipython",
    "version": 3
   },
   "file_extension": ".py",
   "mimetype": "text/x-python",
   "name": "python",
   "nbconvert_exporter": "python",
   "pygments_lexer": "ipython3",
   "version": "3.6.6"
  }
 },
 "nbformat": 4,
 "nbformat_minor": 2
}
