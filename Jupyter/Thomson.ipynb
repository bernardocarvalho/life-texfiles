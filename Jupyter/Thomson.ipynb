{
 "cells": [
  {
   "cell_type": "markdown",
   "metadata": {},
   "source": [
    "# Experiência de Thomson. \n",
    "## Determinação experimental da relação q/m do electrão"
   ]
  },
  {
   "cell_type": "code",
   "execution_count": 4,
   "metadata": {},
   "outputs": [],
   "source": [
    "%matplotlib inline\n",
    "import matplotlib.pyplot as plt\n",
    "from matplotlib.ticker import MultipleLocator\n",
    "import numpy as np\n",
    "from scipy import constants # Constantes Físicas\n",
    "from IPython.core.interactiveshell import InteractiveShell\n",
    "InteractiveShell.ast_node_interactivity = \"all\"\n",
    "#np.set_printoptions(precision=4)"
   ]
  },
  {
   "cell_type": "markdown",
   "metadata": {},
   "source": [
    "### DETERMINAÇÃO DE q/m POR DEFLEXÃO MAGNÉTICA"
   ]
  },
  {
   "cell_type": "markdown",
   "metadata": {},
   "source": [
    "Raio da Trajectória: $R=\\frac{y^2 + z^2}{2z}$"
   ]
  },
  {
   "cell_type": "code",
   "execution_count": 5,
   "metadata": {},
   "outputs": [],
   "source": [
    "def Rt(y, z):\n",
    "    return (y**2 + z**2)/(2*z)"
   ]
  },
  {
   "cell_type": "markdown",
   "metadata": {},
   "source": [
    "Coordenadas no ecran"
   ]
  },
  {
   "cell_type": "code",
   "execution_count": 6,
   "metadata": {},
   "outputs": [
    {
     "data": {
      "application/vnd.jupyter.widget-view+json": {
       "model_id": "212ea362fb7f44cebe2c3cf6ae2a1821",
       "version_major": 2,
       "version_minor": 0
      },
      "text/plain": [
       "A Jupyter Widget"
      ]
     },
     "metadata": {},
     "output_type": "display_data"
    }
   ],
   "source": [
    "import ipywidgets as widgets\n",
    "tetha=np.linspace(0, np.pi/2, 100) \n",
    "spacing = 0.01\n",
    "minorLocator = MultipleLocator(spacing)\n",
    "#ax.\n",
    "def plotR(raio):\n",
    "    y=raio*np.sin(tetha)\n",
    "    z=raio*(1-np.cos(tetha))\n",
    "    plt.plot(y, z)\n",
    "    ax = plt.gca()\n",
    "    ax.xaxis.set_minor_locator(minorLocator)\n",
    "    ax.yaxis.set_minor_locator(minorLocator)\n",
    "    ax.grid(which = 'minor')\n",
    "    plt.axis('equal')\n",
    "    plt.grid('on')\n",
    "    plt.tick_params\n",
    "    plt.plot(y, z, label='Trajectoria')\n",
    "    plt.legend(loc='upper center')\n",
    "    plt.axis([0.10, 0.0, -0.05, 0.05])   # [tmin, tmax, ymin, ymax]\n",
    "    plt.show()\n",
    "    \n",
    "widgets.interact(plotR, raio=(0.1,0.6,0.001));"
   ]
  },
  {
   "cell_type": "code",
   "execution_count": 7,
   "metadata": {
    "collapsed": true
   },
   "outputs": [],
   "source": [
    "yt=np.array([0.10, 0.10, 0.09, 0.09, 0.08])\n",
    "zt=np.array([0.01, 0.02, 0.01, 0.02, 0.01])"
   ]
  },
  {
   "cell_type": "code",
   "execution_count": 8,
   "metadata": {},
   "outputs": [
    {
     "data": {
      "text/plain": [
       "array([ 0.505 ,  0.26  ,  0.41  ,  0.2125,  0.325 ])"
      ]
     },
     "execution_count": 8,
     "metadata": {},
     "output_type": "execute_result"
    }
   ],
   "source": [
    "Raio=Rt(yt,zt)\n",
    "Raio"
   ]
  },
  {
   "cell_type": "markdown",
   "metadata": {},
   "source": [
    "Campo Magnético $B_x = \\left(\\frac{4}{5}\\right)^{3/2} \\cdot \\frac{\\mu_0 n }{r} I$"
   ]
  },
  {
   "cell_type": "code",
   "execution_count": 9,
   "metadata": {
    "collapsed": true
   },
   "outputs": [],
   "source": [
    "nHel=320 # espiras \n",
    "rHel = 0.068 # raio bobinas de Helmholtz"
   ]
  },
  {
   "cell_type": "markdown",
   "metadata": {},
   "source": [
    "Medidas"
   ]
  },
  {
   "cell_type": "code",
   "execution_count": 10,
   "metadata": {
    "collapsed": true
   },
   "outputs": [],
   "source": [
    "IHel=np.array([0.100,0.040, 0.2,0.3 , 0.25])"
   ]
  },
  {
   "cell_type": "code",
   "execution_count": 11,
   "metadata": {
    "collapsed": true
   },
   "outputs": [],
   "source": [
    "def Bx(I, n,r):\n",
    "    return (4.0/5)**(3/2)*constants.mu_0*n/r*I"
   ]
  },
  {
   "cell_type": "code",
   "execution_count": 12,
   "metadata": {},
   "outputs": [
    {
     "data": {
      "text/plain": [
       "array([ 0.00047309,  0.00018923,  0.00094617,  0.00141926,  0.00118272])"
      ]
     },
     "execution_count": 12,
     "metadata": {},
     "output_type": "execute_result"
    }
   ],
   "source": [
    "campoB=Bx(IHel, nHel, rHel)\n",
    "campoB"
   ]
  },
  {
   "cell_type": "markdown",
   "metadata": {},
   "source": [
    "Razão q/m : $\\frac{q}{m} = \\frac{2\\, U_a}{B^2\\,R^2}$"
   ]
  },
  {
   "cell_type": "code",
   "execution_count": 13,
   "metadata": {
    "collapsed": true
   },
   "outputs": [],
   "source": [
    "def q_m(U,B,R):\n",
    "    return 2*U/B**2/R**2"
   ]
  },
  {
   "cell_type": "code",
   "execution_count": 14,
   "metadata": {
    "collapsed": true
   },
   "outputs": [],
   "source": [
    "Ua=4500.0"
   ]
  },
  {
   "cell_type": "code",
   "execution_count": 15,
   "metadata": {},
   "outputs": [
    {
     "data": {
      "text/plain": [
       "array([  1.57680475e+11,   3.71786827e+12,   5.98043771e+10,\n",
       "         9.89464684e+10,   6.09135537e+10])"
      ]
     },
     "execution_count": 15,
     "metadata": {},
     "output_type": "execute_result"
    }
   ],
   "source": [
    "qm=q_m(Ua,campoB,Raio)\n",
    "qm"
   ]
  },
  {
   "cell_type": "markdown",
   "metadata": {},
   "source": [
    "## Cálculo de Incertezas\n",
    "### cálculo simbólico de derivadas parciais"
   ]
  },
  {
   "cell_type": "code",
   "execution_count": 16,
   "metadata": {
    "collapsed": true
   },
   "outputs": [],
   "source": [
    "import sympy as sp\n",
    "from scipy.misc import derivative\n",
    "from sympy.parsing.sympy_parser import parse_expr"
   ]
  },
  {
   "cell_type": "code",
   "execution_count": 17,
   "metadata": {
    "collapsed": true
   },
   "outputs": [],
   "source": [
    "eqRaio= '(y**2 + z**2)/(2*z)'\n",
    "y, z = sp.symbols('y z')"
   ]
  },
  {
   "cell_type": "code",
   "execution_count": 18,
   "metadata": {},
   "outputs": [
    {
     "name": "stdout",
     "output_type": "stream",
     "text": [
      "y/z\n"
     ]
    }
   ],
   "source": [
    "dPy = sp.diff(eqRaio , y)\n",
    "print dPy"
   ]
  },
  {
   "cell_type": "code",
   "execution_count": 19,
   "metadata": {},
   "outputs": [
    {
     "name": "stdout",
     "output_type": "stream",
     "text": [
      "1 - (y**2 + z**2)/(2*z**2)\n"
     ]
    }
   ],
   "source": [
    "dPz = sp.diff(eqRaio , z)\n",
    "print dPz"
   ]
  },
  {
   "cell_type": "code",
   "execution_count": 20,
   "metadata": {},
   "outputs": [
    {
     "name": "stdout",
     "output_type": "stream",
     "text": [
      "1 - \\frac{y^{2} + z^{2}}{2 z^{2}}\n"
     ]
    }
   ],
   "source": [
    "print sp.latex(dPz)"
   ]
  },
  {
   "cell_type": "markdown",
   "metadata": {},
   "source": [
    "$$1 - \\frac{y^{2} + z^{2}}{2 z^{2}}$$\n"
   ]
  },
  {
   "cell_type": "code",
   "execution_count": 21,
   "metadata": {
    "collapsed": true
   },
   "outputs": [],
   "source": [
    "def errRtlin(y, ey, z, ez):\n",
    "    return np.abs(y/z)*ey + np.abs(1 - (y**2 + z**2)/(2*z**2))*ez"
   ]
  },
  {
   "cell_type": "markdown",
   "metadata": {},
   "source": [
    "### Incertezas das Medidas"
   ]
  },
  {
   "cell_type": "code",
   "execution_count": 22,
   "metadata": {},
   "outputs": [
    {
     "data": {
      "text/plain": [
       "array([ 0.0995  ,  0.037   ,  0.085   ,  0.032125,  0.0715  ])"
      ]
     },
     "execution_count": 22,
     "metadata": {},
     "output_type": "execute_result"
    }
   ],
   "source": [
    "errRtlin(yt, 0.005, zt, 0.001)"
   ]
  },
  {
   "cell_type": "code",
   "execution_count": 23,
   "metadata": {
    "collapsed": true
   },
   "outputs": [],
   "source": [
    "eqQm= '2*U/B**2/R**2'\n",
    "U, B, R= sp.symbols('U B R')"
   ]
  },
  {
   "cell_type": "code",
   "execution_count": 24,
   "metadata": {},
   "outputs": [
    {
     "data": {
      "text/plain": [
       "2/(B**2*R**2)"
      ]
     },
     "execution_count": 24,
     "metadata": {},
     "output_type": "execute_result"
    }
   ],
   "source": [
    "dPQmU = sp.diff(eqQm , U)\n",
    "dPQmU"
   ]
  },
  {
   "cell_type": "code",
   "execution_count": 25,
   "metadata": {},
   "outputs": [
    {
     "data": {
      "text/plain": [
       "-4*U/(B**3*R**2)"
      ]
     },
     "execution_count": 25,
     "metadata": {},
     "output_type": "execute_result"
    }
   ],
   "source": [
    "dPQmB = sp.diff(eqQm , B)\n",
    "dPQmB"
   ]
  },
  {
   "cell_type": "code",
   "execution_count": 26,
   "metadata": {},
   "outputs": [
    {
     "data": {
      "text/plain": [
       "-4*U/(B**2*R**3)"
      ]
     },
     "execution_count": 26,
     "metadata": {},
     "output_type": "execute_result"
    }
   ],
   "source": [
    "dPQmR = sp.diff(eqQm , R)\n",
    "dPQmR"
   ]
  },
  {
   "cell_type": "code",
   "execution_count": 27,
   "metadata": {
    "collapsed": true
   },
   "outputs": [],
   "source": [
    "def errQmLin(U,eU, B, eB ,R, eR):\n",
    "    return np.abs(2/(B**2*R**2))*eU  + 4*U/(B**3*R**2)*eB  + 4*U/(B**2*R**3)*eR"
   ]
  },
  {
   "cell_type": "code",
   "execution_count": 28,
   "metadata": {},
   "outputs": [
    {
     "data": {
      "text/plain": [
       "array([  1.37555760e+11,   6.98151886e+12,   4.49907772e+10,\n",
       "         1.12100865e+11,   5.09825353e+10])"
      ]
     },
     "execution_count": 28,
     "metadata": {},
     "output_type": "execute_result"
    }
   ],
   "source": [
    "errQmLin(4500, 250.0, campoB, 1e-4 ,Raio, 0.0995)"
   ]
  },
  {
   "cell_type": "markdown",
   "metadata": {},
   "source": [
    "## Campos Magnético e Elétrico não compensados"
   ]
  },
  {
   "cell_type": "markdown",
   "metadata": {},
   "source": [
    "http://farside.ph.utexas.edu/teaching/336k/Newtonhtml/node30.html"
   ]
  },
  {
   "cell_type": "code",
   "execution_count": 32,
   "metadata": {},
   "outputs": [
    {
     "data": {
      "text/plain": [
       "0.00047308689371705116"
      ]
     },
     "execution_count": 32,
     "metadata": {},
     "output_type": "execute_result"
    }
   ],
   "source": [
    "Ve=np.sqrt(2/constants.m_e*constants.e*Ua) # Velocidade do electrão à saida do ânodo<\n",
    "E=Ua/0.05 # Campo electrico\n",
    "campoB[0]\n",
    "B=0.01 # T\n",
    "#Ve/constants.c\n",
    "#VEB=E*B/B**2  # Vel. de deriva\n",
    "#VEB/constants.c\n",
    "#RL = Ve / Fcic # raio de Larmor\n",
    "#print \"Rlarmor =%g\" % RL"
   ]
  },
  {
   "cell_type": "code",
   "execution_count": 1,
   "metadata": {},
   "outputs": [
    {
     "ename": "NameError",
     "evalue": "name 'np' is not defined",
     "output_type": "error",
     "traceback": [
      "\u001b[1;31m---------------------------------------------------------------------------\u001b[0m",
      "\u001b[1;31mNameError\u001b[0m                                 Traceback (most recent call last)",
      "\u001b[1;32m<ipython-input-1-ce6efd93018c>\u001b[0m in \u001b[0;36m<module>\u001b[1;34m()\u001b[0m\n\u001b[1;32m----> 1\u001b[1;33m \u001b[0mtimen\u001b[0m\u001b[1;33m=\u001b[0m\u001b[0mnp\u001b[0m\u001b[1;33m.\u001b[0m\u001b[0mlinspace\u001b[0m\u001b[1;33m(\u001b[0m\u001b[1;36m0\u001b[0m\u001b[1;33m,\u001b[0m \u001b[1;36m20\u001b[0m\u001b[1;33m*\u001b[0m\u001b[0mnp\u001b[0m\u001b[1;33m.\u001b[0m\u001b[0mpi\u001b[0m\u001b[1;33m,\u001b[0m \u001b[1;36m200\u001b[0m\u001b[1;33m)\u001b[0m\u001b[1;33m\u001b[0m\u001b[0m\n\u001b[0m\u001b[0;32m      2\u001b[0m \u001b[1;32mdef\u001b[0m \u001b[0mplotCic\u001b[0m\u001b[1;33m(\u001b[0m\u001b[0mB\u001b[0m\u001b[1;33m)\u001b[0m\u001b[1;33m:\u001b[0m\u001b[1;33m\u001b[0m\u001b[0m\n\u001b[0;32m      3\u001b[0m     \u001b[0mFcic\u001b[0m\u001b[1;33m=\u001b[0m\u001b[0mconstants\u001b[0m\u001b[1;33m.\u001b[0m\u001b[0me\u001b[0m\u001b[1;33m/\u001b[0m\u001b[0mconstants\u001b[0m\u001b[1;33m.\u001b[0m\u001b[0mm_e\u001b[0m \u001b[1;33m*\u001b[0m \u001b[0mB\u001b[0m \u001b[1;31m# Freq ciclotronica /  rad/s\u001b[0m\u001b[1;33m\u001b[0m\u001b[0m\n\u001b[0;32m      4\u001b[0m     \u001b[0mtime\u001b[0m\u001b[1;33m=\u001b[0m\u001b[0mtimen\u001b[0m\u001b[1;33m/\u001b[0m\u001b[0mFcic\u001b[0m\u001b[1;33m\u001b[0m\u001b[0m\n\u001b[0;32m      5\u001b[0m     \u001b[0mRL\u001b[0m \u001b[1;33m=\u001b[0m \u001b[0mVe\u001b[0m \u001b[1;33m/\u001b[0m \u001b[0mFcic\u001b[0m \u001b[1;31m# raio de Larmor\u001b[0m\u001b[1;33m\u001b[0m\u001b[0m\n",
      "\u001b[1;31mNameError\u001b[0m: name 'np' is not defined"
     ]
    }
   ],
   "source": [
    "timen=np.linspace(0, 20*np.pi, 200)\n",
    "def plotCic(B):\n",
    "    Fcic=constants.e/constants.m_e * B # Freq ciclotronica /  rad/s\n",
    "    time=timen/Fcic\n",
    "    RL = Ve / Fcic # raio de Larmor\n",
    "    yp=RL*np.sin(time * Fcic)\n",
    "    z=RL*(1-np.cos(time * Fcic))\n",
    "    VEB=E*B/B**2  # Vel. de deriva\n",
    "    y=yp + time * VEB\n",
    "    plt.plot(y, z)\n",
    "    plt.axis('equal')\n",
    "    plt.grid('on')\n",
    "    plt.tick_params\n",
    "    plt.plot(y, z, label='Cicloide')\n",
    "    plt.axis([0.10, 0.0, -0.02, 0.05])   # [ymin, ymax, zmin, zmax]\n",
    "    plt.legend(loc='upper center')\n",
    "    plt.show()\n",
    "widgets.interact(plotCic, B=(0.001,0.04,0.001));"
   ]
  },
  {
   "cell_type": "code",
   "execution_count": null,
   "metadata": {
    "collapsed": true
   },
   "outputs": [],
   "source": []
  },
  {
   "cell_type": "code",
   "execution_count": null,
   "metadata": {
    "collapsed": true
   },
   "outputs": [],
   "source": []
  }
 ],
 "metadata": {
  "kernelspec": {
   "display_name": "Python 3",
   "language": "python",
   "name": "python3"
  },
  "language_info": {
   "codemirror_mode": {
    "name": "ipython",
    "version": 3
   },
   "file_extension": ".py",
   "mimetype": "text/x-python",
   "name": "python",
   "nbconvert_exporter": "python",
   "pygments_lexer": "ipython3",
   "version": "3.6.6"
  }
 },
 "nbformat": 4,
 "nbformat_minor": 2
}
