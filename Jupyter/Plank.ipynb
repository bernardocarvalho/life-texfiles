{
 "cells": [
  {
   "cell_type": "markdown",
   "metadata": {},
   "source": [
    "# Experiência de Plank\n",
    "$$ E = h \\nu$$\n",
    "$$e V_s= h \\nu -W_O$$ $$ V_s=  \\frac{h}{e}  \\nu  - \\frac{W_O}{e} $$"
   ]
  },
  {
   "cell_type": "code",
   "execution_count": 1,
   "metadata": {},
   "outputs": [],
   "source": [
    "#%matplotlib notebook\n",
    "%matplotlib inline\n",
    "import matplotlib.pyplot as plt\n",
    "#from matplotlib.ticker import MultipleLocator\n",
    "import numpy as np\n",
    "from scipy import constants # Constantes Físicas\n",
    "from scipy import stats\n",
    "import ipywidgets as widgets"
   ]
  },
  {
   "cell_type": "code",
   "execution_count": 2,
   "metadata": {},
   "outputs": [],
   "source": [
    "Freq = np.array([518.672, 548.996, 687.858, 740.858, 820.264]) * 1e12 # Thz\n",
    "cdo =np.array([578, 546.074, 435.835, 404.656, 365.483]) * 1e-9 # nm"
   ]
  },
  {
   "cell_type": "code",
   "execution_count": 3,
   "metadata": {},
   "outputs": [
    {
     "data": {
      "text/plain": [
       "array([  5.18672000e+14,   5.48996000e+14,   6.87858000e+14,\n",
       "         7.40858000e+14,   8.20264000e+14])"
      ]
     },
     "execution_count": 3,
     "metadata": {},
     "output_type": "execute_result"
    }
   ],
   "source": [
    "Freq"
   ]
  },
  {
   "cell_type": "code",
   "execution_count": 4,
   "metadata": {},
   "outputs": [],
   "source": [
    "x=Freq\n",
    "y=x*constants.h/constants.e + 0.1*np.random.normal(size=len(x))"
   ]
  },
  {
   "cell_type": "code",
   "execution_count": 5,
   "metadata": {},
   "outputs": [
    {
     "data": {
      "text/plain": [
       "array([ 2.21336185,  2.29068378,  2.90252246,  3.08003246,  3.4566147 ])"
      ]
     },
     "execution_count": 5,
     "metadata": {},
     "output_type": "execute_result"
    }
   ],
   "source": [
    "y\n"
   ]
  },
  {
   "cell_type": "markdown",
   "metadata": {},
   "source": [
    "https://docs.scipy.org/doc/scipy/reference/generated/scipy.stats.linregress.html#scipy.stats.linregress"
   ]
  },
  {
   "cell_type": "code",
   "execution_count": 6,
   "metadata": {},
   "outputs": [
    {
     "name": "stdout",
     "output_type": "stream",
     "text": [
      "slope:4.14423e-15\n",
      "intercept:0.0396518 V\n",
      "('r-squared:', 0.99775382794185352)\n",
      "('p_value:', 4.5211227501692674e-05)\n",
      "slope std_err:1.13525e-16\n"
     ]
    }
   ],
   "source": [
    "slope, intercept, r_value, p_value, std_err = stats.linregress(x, y)\n",
    "print \"slope:%g\" %slope\n",
    "print \"intercept:%g V\" %intercept\n",
    "#print 'Vel= %g' %Var\n",
    "#print(\"slope:\", slope)\n",
    "print(\"r-squared:\", r_value**2)\n",
    "print(\"p_value:\", p_value)\n",
    "print \"slope std_err:%g\" %std_err"
   ]
  },
  {
   "cell_type": "code",
   "execution_count": 7,
   "metadata": {
    "scrolled": true
   },
   "outputs": [
    {
     "data": {
      "image/png": "[encoded data removed]",
      "text/plain": [
       "<matplotlib.figure.Figure at 0x110632310>"
      ]
     },
     "metadata": {},
     "output_type": "display_data"
    }
   ],
   "source": [
    "#plt.plot(x, y, 'o', label='original data')\n",
    "plt.errorbar(x, y,  yerr=0.2, fmt='o', label='original data')\n",
    "\n",
    "plt.plot(x, intercept + slope*x, 'r', label='fitted line')\n",
    "plt.legend()\n",
    "plt.show()"
   ]
  },
  {
   "cell_type": "markdown",
   "metadata": {},
   "source": [
    "# Ajuste Manual"
   ]
  },
  {
   "cell_type": "code",
   "execution_count": 55,
   "metadata": {},
   "outputs": [
    {
     "data": {
      "application/vnd.jupyter.widget-view+json": {
       "model_id": "580ea9be6d5f4bb18519c8c54e66195f"
      }
     },
     "metadata": {},
     "output_type": "display_data"
    }
   ],
   "source": [
    "xm=np.array([0.0,  820.264]) * 1e12 # Thz\n",
    "def plotManual(a,b):\n",
    "    plt.plot(x, y, 'o', label='original data')#, autoscale_on=False, xlim=(0, 1e14), ylim=(0, 4))\n",
    "    plt.axis([0, 10.0e14, 0.0, 4.0])   # [ymin, ymax, zmin, zmax]\n",
    "    plt.plot(xm, a + b*1.0e-15*xm, 'r', label='fitted line')\n",
    "    plt.grid('on')\n",
    "    #plt.legend()\n",
    "    plt.xlabel('Freq/Hz')\n",
    "    plt.ylabel('Vs/V')\n",
    "    plt.legend(loc='upper center')\n",
    "    plt.show()\n",
    "\n",
    "widgets.interact(plotManual,  a=(0.0,4.0,0.1), b=(2,4,0.1));"
   ]
  },
  {
   "cell_type": "code",
   "execution_count": null,
   "metadata": {
    "collapsed": true
   },
   "outputs": [],
   "source": []
  }
 ],
 "metadata": {
  "kernelspec": {
   "display_name": "Python 3",
   "language": "python",
   "name": "python3"
  },
  "language_info": {
   "codemirror_mode": {
    "name": "ipython",
    "version": 3
   },
   "file_extension": ".py",
   "mimetype": "text/x-python",
   "name": "python",
   "nbconvert_exporter": "python",
   "pygments_lexer": "ipython3",
   "version": "3.6.6"
  }
 },
 "nbformat": 4,
 "nbformat_minor": 2
}
