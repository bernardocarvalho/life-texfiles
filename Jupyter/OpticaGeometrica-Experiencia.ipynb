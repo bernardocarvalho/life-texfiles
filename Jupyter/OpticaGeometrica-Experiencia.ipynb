{
 "cells": [
  {
   "cell_type": "markdown",
   "metadata": {},
   "source": [
    "# Óptica Geométrica"
   ]
  },
  {
   "cell_type": "code",
   "execution_count": 28,
   "metadata": {},
   "outputs": [],
   "source": [
    "from __future__ import print_function\n",
    "%matplotlib notebook\n",
    "#%matplotlib inline\n",
    "\n",
    "from numpy import sin, cos\n",
    "import numpy as np\n",
    "import matplotlib.pyplot as plt\n",
    "#import ipywidgets as widgets\n",
    "from scipy import stats"
   ]
  },
  {
   "cell_type": "markdown",
   "metadata": {},
   "source": [
    "Lei de Snell $n_i \\sin{\\theta_i} =  n_t \\sin{\\theta_t}$"
   ]
  },
  {
   "cell_type": "code",
   "execution_count": 9,
   "metadata": {},
   "outputs": [
    {
     "data": {
      "text/plain": [
       "array([0.17364818, 0.34202014, 0.5       , 0.64278761, 0.76604444])"
      ]
     },
     "execution_count": 9,
     "metadata": {},
     "output_type": "execute_result"
    }
   ],
   "source": [
    "theta_i = np.array([10, 20, 30, 40, 50,]) /180*np.pi \n",
    "sin_theta_i = np.sin(theta_i )\n",
    "sin_theta_i"
   ]
  },
  {
   "cell_type": "code",
   "execution_count": 31,
   "metadata": {},
   "outputs": [
    {
     "data": {
      "text/plain": [
       "array([1.  , 1.  , 0.75, 1.  , 0.5 ])"
      ]
     },
     "execution_count": 31,
     "metadata": {},
     "output_type": "execute_result"
    }
   ],
   "source": [
    "theta_t_dir = np.array([6.5, 13, 20, 25.5, 31.5,]) \n",
    "theta_t_esq = np.array([8.5, 15, 21.5, 27.5, 32.5,]) \n",
    "theta_t_mean =  (theta_t_esq + theta_t_dir)/2.0\n",
    "sin_theta_t_mean = np.sin(theta_t_mean/180*np.pi)\n",
    "theta_t_err =  np.abs((theta_t_esq - theta_t_dir)/2.0)\n",
    "len(theta_t_dir)\n",
    "theta_t_err\n",
    "#np.ones(len(theta_t_dir))\n",
    "#np.min(np.ones(len(theta_t_dir)), theta_t_err)"
   ]
  },
  {
   "cell_type": "code",
   "execution_count": 32,
   "metadata": {},
   "outputs": [
    {
     "data": {
      "text/plain": [
       "array([0.13052619, 0.2419219 , 0.35429104, 0.44619781, 0.52991926])"
      ]
     },
     "execution_count": 32,
     "metadata": {},
     "output_type": "execute_result"
    }
   ],
   "source": [
    "sin_theta_t_mean"
   ]
  },
  {
   "cell_type": "code",
   "execution_count": 33,
   "metadata": {},
   "outputs": [
    {
     "name": "stdout",
     "output_type": "stream",
     "text": [
      "slope:0.675379\n",
      "intercept:0.01308 V\n",
      "r-squared: 0.9998183587045238\n",
      "p_value: 1.0390451446776403e-06\n",
      "slope std_err:0.00525574\n"
     ]
    }
   ],
   "source": [
    "x=sen_theta_i\n",
    "y=sin_theta_t_mean\n",
    "\n",
    "slope, intercept, r_value, p_value, std_err = stats.linregress(x, y)\n",
    "print(\"slope:%g\" %slope)\n",
    "print(\"intercept:%g V\" %intercept)\n",
    "#print 'Vel= %g' %Var\n",
    "#print(\"slope:\", slope)\n",
    "print(\"r-squared:\", r_value**2)\n",
    "print(\"p_value:\", p_value)\n",
    "print(\"slope std_err:%g\" %std_err)"
   ]
  },
  {
   "cell_type": "markdown",
   "metadata": {},
   "source": [
    "## Equação focos conjugados\n",
    "$ \\frac{1}{f} = \\frac{1}{D_{Obj}} + \\frac{1}{D_{Im}}$ ou  $ f = \\frac{D_{Obj} D_{Im}}{D_{Obj} + D_{Im}} $\n",
    "\n",
    "Formula Newton (distâncias aos focos): $$ f^2 = x_{Obj} \\cdot x_{Im}  $$ "
   ]
  },
  {
   "cell_type": "code",
   "execution_count": 2,
   "metadata": {},
   "outputs": [],
   "source": [
    "def focosConj_di(f,do):\n",
    "    xo=do-f\n",
    "    xi=f/xo\n",
    "    di=f+xi\n",
    "    A=-di/do\n",
    "    return di,A"
   ]
  },
  {
   "cell_type": "code",
   "execution_count": 3,
   "metadata": {},
   "outputs": [
    {
     "name": "stdout",
     "output_type": "stream",
     "text": [
      "DObj=1.5, DIm=3, Ampl=-2\n"
     ]
    }
   ],
   "source": [
    "fc=1\n",
    "dObj=1.5\n",
    "dIm,Amp =focosConj_di(fc,dObj)\n",
    "print(\"DObj=%g, DIm=%g, Ampl=%g\" %(dObj,dIm,Amp ))"
   ]
  },
  {
   "cell_type": "code",
   "execution_count": 39,
   "metadata": {},
   "outputs": [
    {
     "name": "stdout",
     "output_type": "stream",
     "text": [
      "fconv=87.8571\n"
     ]
    }
   ],
   "source": [
    "Dobj=120.\n",
    "Dimg=328.\n",
    "fconv=(Dobj*Dimg)/(Dobj+Dimg)\n",
    "print(\"fconv=%g\" %(fconv ))"
   ]
  },
  {
   "cell_type": "markdown",
   "metadata": {},
   "source": [
    "## Cálculo da distância Focal da Lente Divergente\n",
    "$$ \\frac{1}{f_{Equ}} = \\frac{1}{f_{Conv}} + \\frac{1}{f_{Div}} + \\frac{D_{Lentes}}{f_{Conv} f_{Div}}  $$\n",
    "$$ \\frac{1}{f_{Equ}} =  \\frac{f_{Div} + f_{Conv}   + D_{Lentes}}{f_{Conv} f_{Div}}  $$\n",
    "$$ f_{Div} = \\frac{f_{Equ} (f_{Conv} - D_{Lentes} ) }{ f_{Conv} -f_{Equ}}   $$"
   ]
  },
  {
   "cell_type": "code",
   "execution_count": null,
   "metadata": {},
   "outputs": [],
   "source": []
  }
 ],
 "metadata": {
  "kernelspec": {
   "display_name": "Python 3",
   "language": "python",
   "name": "python3"
  },
  "language_info": {
   "codemirror_mode": {
    "name": "ipython",
    "version": 3
   },
   "file_extension": ".py",
   "mimetype": "text/x-python",
   "name": "python",
   "nbconvert_exporter": "python",
   "pygments_lexer": "ipython3",
   "version": "3.6.6"
  }
 },
 "nbformat": 4,
 "nbformat_minor": 2
}
