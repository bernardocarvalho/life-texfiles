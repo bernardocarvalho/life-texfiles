{
 "cells": [
  {
   "cell_type": "code",
   "execution_count": 2,
   "metadata": {},
   "outputs": [],
   "source": [
    "#must occur at the beginning of the file\n",
    "from __future__ import print_function\n",
    "import matplotlib.pyplot as plt\n",
    "%matplotlib notebook\n",
    "#%matplotlib inline"
   ]
  },
  {
   "cell_type": "markdown",
   "metadata": {},
   "source": [
    "# Experiência de Plank\n",
    "$$ E = h \\nu$$\n",
    "$$e V_s= h \\nu -W_O$$ $$ V_s=  \\frac{h}{e}  \\nu  - \\frac{W_O}{e} $$"
   ]
  },
  {
   "cell_type": "code",
   "execution_count": 3,
   "metadata": {},
   "outputs": [],
   "source": [
    "#from matplotlib.ticker import MultipleLocator\n",
    "import numpy as np\n",
    "from scipy import constants # Constantes Físicas\n",
    "from scipy import stats\n",
    "import ipywidgets as widgets"
   ]
  },
  {
   "cell_type": "code",
   "execution_count": 4,
   "metadata": {},
   "outputs": [],
   "source": [
    "Freq = np.array([518.672, 548.996, 687.858, 740.858, 820.264]) * 1e12 # Thz\n",
    "#cdo =np.array([578, 546.074, 435.835, 404.656, 365.483]) * 1e-9 # nm"
   ]
  },
  {
   "cell_type": "code",
   "execution_count": 15,
   "metadata": {},
   "outputs": [],
   "source": [
    "Tparagem = np.array([0.661, 0.793, 1.361, 1.579, 1.848])\n",
    "ErroTparagem = np.array([0.001, 0.001, 0.002,  0.001, 0.001])"
   ]
  },
  {
   "cell_type": "code",
   "execution_count": 16,
   "metadata": {},
   "outputs": [],
   "source": [
    "x=Freq\n",
    "y= Tparagem"
   ]
  },
  {
   "cell_type": "code",
   "execution_count": 17,
   "metadata": {},
   "outputs": [
    {
     "name": "stdout",
     "output_type": "stream",
     "text": [
      "slope:3.97816e-15\n",
      "intercept:-1.39043 V\n",
      "r-squared: 0.9985774509679519\n",
      "p_value: 2.278112536349266e-05\n",
      "slope std_err:8.66891e-17\n"
     ]
    }
   ],
   "source": [
    "slope, intercept, r_value, p_value, std_err = stats.linregress(x, y)\n",
    "print(\"slope:%g\" %slope)\n",
    "print(\"intercept:%g V\" %intercept)\n",
    "#print 'Vel= %g' %Var\n",
    "#print(\"slope:\", slope)\n",
    "print(\"r-squared:\", r_value**2)\n",
    "print(\"p_value:\", p_value)\n",
    "print(\"slope std_err:%g\" %std_err)"
   ]
  },
  {
   "cell_type": "code",
   "execution_count": 18,
   "metadata": {
    "scrolled": true
   },
   "outputs": [
    {
     "data": {
      "image/png": "[encoded data removed]",
      "text/plain": [
       "<Figure size 432x288 with 1 Axes>"
      ]
     },
     "metadata": {
      "needs_background": "light"
     },
     "output_type": "display_data"
    }
   ],
   "source": [
    "#plt.plot(x, y, 'o', label='original data')\n",
    "plt.errorbar(x, y,  yerr=ErroTparagem, fmt='o', label='original data')\n",
    "\n",
    "plt.plot(x, intercept + slope*x, 'r', label='fitted line')\n",
    "plt.legend()\n",
    "plt.show()"
   ]
  },
  {
   "cell_type": "markdown",
   "metadata": {},
   "source": [
    "# Ajuste Manual"
   ]
  },
  {
   "cell_type": "code",
   "execution_count": 21,
   "metadata": {},
   "outputs": [
    {
     "data": {
      "application/vnd.jupyter.widget-view+json": {
       "model_id": "50bc4550fdbb47529b494fa54d46e576",
       "version_major": 2,
       "version_minor": 0
      },
      "text/plain": [
       "interactive(children=(FloatSlider(value=2.0, description='a', max=4.0), FloatSlider(value=3.0, description='b'…"
      ]
     },
     "metadata": {},
     "output_type": "display_data"
    }
   ],
   "source": [
    "xm=np.array([0.0,  820.264]) * 1e12 # Thz\n",
    "def plotManual(a,b):\n",
    "    plt.plot(x, y, 'o', label='original data')#, autoscale_on=False, xlim=(0, 1e14), ylim=(0, 4))\n",
    "    plt.axis([0, 10.0e14, 0.0, 4.0])   # [ymin, ymax, zmin, zmax]\n",
    "    plt.plot(xm, a + b*1.0e-15*xm, 'r', label='fitted line')\n",
    "    plt.grid('on')\n",
    "    #plt.legend()\n",
    "    plt.xlabel('Freq/Hz')\n",
    "    plt.ylabel('Vs/V')\n",
    "    plt.legend(loc='upper center')\n",
    "    plt.show()\n",
    "\n",
    "widgets.interact(plotManual,  a=(0.0,4.0,0.1), b=(2,4,0.1));"
   ]
  },
  {
   "cell_type": "code",
   "execution_count": null,
   "metadata": {
    "collapsed": true
   },
   "outputs": [],
   "source": []
  }
 ],
 "metadata": {
  "kernelspec": {
   "display_name": "Python 3",
   "language": "python",
   "name": "python3"
  },
  "language_info": {
   "codemirror_mode": {
    "name": "ipython",
    "version": 3
   },
   "file_extension": ".py",
   "mimetype": "text/x-python",
   "name": "python",
   "nbconvert_exporter": "python",
   "pygments_lexer": "ipython3",
   "version": "3.6.6"
  }
 },
 "nbformat": 4,
 "nbformat_minor": 2
}
